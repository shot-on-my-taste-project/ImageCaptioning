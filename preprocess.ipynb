{
 "cells": [
  {
   "cell_type": "code",
   "execution_count": 10,
   "metadata": {},
   "outputs": [
    {
     "name": "stdout",
     "output_type": "stream",
     "text": [
      "['1', 'jpg']\n",
      "['2', 'jpg']\n",
      "['2021-10-02-144940-MobilenetV1-MFCC']\n"
     ]
    },
    {
     "ename": "IndexError",
     "evalue": "list index out of range",
     "output_type": "error",
     "traceback": [
      "\u001b[1;31m---------------------------------------------------------------------------\u001b[0m",
      "\u001b[1;31mIndexError\u001b[0m                                Traceback (most recent call last)",
      "\u001b[1;32m~\\AppData\\Local\\Temp\\ipykernel_3268\\3653089614.py\u001b[0m in \u001b[0;36m<module>\u001b[1;34m\u001b[0m\n\u001b[0;32m     45\u001b[0m     \u001b[1;31m#     image_dir = val_image_dir\u001b[0m\u001b[1;33m\u001b[0m\u001b[1;33m\u001b[0m\u001b[0m\n\u001b[0;32m     46\u001b[0m     \u001b[0mprint\u001b[0m\u001b[1;33m(\u001b[0m\u001b[0mimage\u001b[0m\u001b[1;33m.\u001b[0m\u001b[0msplit\u001b[0m\u001b[1;33m(\u001b[0m\u001b[1;34m'.'\u001b[0m\u001b[1;33m)\u001b[0m\u001b[1;33m)\u001b[0m\u001b[1;33m\u001b[0m\u001b[0m\n\u001b[1;32m---> 47\u001b[1;33m     \u001b[1;32mif\u001b[0m \u001b[0mimage\u001b[0m\u001b[1;33m.\u001b[0m\u001b[0msplit\u001b[0m\u001b[1;33m(\u001b[0m\u001b[1;34m'.'\u001b[0m\u001b[1;33m)\u001b[0m\u001b[1;33m[\u001b[0m\u001b[1;36m1\u001b[0m\u001b[1;33m]\u001b[0m \u001b[1;33m==\u001b[0m \u001b[1;34m'jpg'\u001b[0m\u001b[1;33m:\u001b[0m\u001b[1;33m\u001b[0m\u001b[0m\n\u001b[0m\u001b[0;32m     48\u001b[0m         \u001b[1;32mwith\u001b[0m \u001b[0mopen\u001b[0m\u001b[1;33m(\u001b[0m\u001b[0mos\u001b[0m\u001b[1;33m.\u001b[0m\u001b[0mpath\u001b[0m\u001b[1;33m.\u001b[0m\u001b[0mjoin\u001b[0m\u001b[1;33m(\u001b[0m\u001b[0mimage_dir\u001b[0m\u001b[1;33m,\u001b[0m \u001b[0mimage\u001b[0m\u001b[1;33m)\u001b[0m\u001b[1;33m,\u001b[0m \u001b[1;34m'rb+'\u001b[0m\u001b[1;33m)\u001b[0m \u001b[1;32mas\u001b[0m \u001b[0mf\u001b[0m\u001b[1;33m:\u001b[0m\u001b[1;33m\u001b[0m\u001b[0m\n\u001b[0;32m     49\u001b[0m             \u001b[1;32mwith\u001b[0m \u001b[0mImage\u001b[0m\u001b[1;33m.\u001b[0m\u001b[0mopen\u001b[0m\u001b[1;33m(\u001b[0m\u001b[0mf\u001b[0m\u001b[1;33m)\u001b[0m \u001b[1;32mas\u001b[0m \u001b[0mimg\u001b[0m\u001b[1;33m:\u001b[0m\u001b[1;33m\u001b[0m\u001b[0m\n",
      "\u001b[1;31mIndexError\u001b[0m: list index out of range"
     ]
    }
   ],
   "source": [
    "import os\n",
    "from PIL import Image\n",
    "\n",
    "train_image_dir = r\"C:\\Users\\VIP444\\Documents\\COCO-Dataset\\train2014\" # 원본 이미지 파일 경로\n",
    "val_image_dir = r\"C:\\Users\\VIP444\\Documents\\COCO-Dataset\\val2014\"\n",
    "test_image_dir = r\"C:\\Users\\VIP444\\Desktop\"\n",
    "resize_train_image_dir = \"data/resized_train/images\" # 크기가 조정된 이미지가 담길 경로 (학습)\n",
    "resize_val_image_dir = \"data/resized_val/images\" # 크기가 조정된 이미지가 담길 경로 (평가)\n",
    "resize_test_image_dir = \"data/resize_test\"\n",
    "size = [256, 256] # 조정될 이미지 크기\n",
    "\n",
    "def resize_image(image, size):\n",
    "    # 이미지를 특정 크기로 조정\n",
    "    return image.resize(size, Image.ANTIALIAS)\n",
    "\n",
    "# image_dir 내부에 있는 모든 이미지의 크기를 바꾸어 결과 폴더로 옮기기\n",
    "if not os.path.exists(resize_train_image_dir):\n",
    "    os.makedirs(resize_train_image_dir)\n",
    "if not os.path.exists(resize_val_image_dir):\n",
    "    os.makedirs(resize_val_image_dir)\n",
    "if not os.path.exists(resize_test_image_dir):\n",
    "    os.makedirs(resize_test_image_dir)\n",
    "\n",
    "# images = sorted(os.listdir(train_image_dir)) # 이미지와 캡션 모두 파일 이름별로 정렬해서 매칭\n",
    "# images = sorted(images + sorted(os.listdir(val_image_dir)))\n",
    "# num_images = len(images)\n",
    "# num_train_images = 105000\n",
    "\n",
    "# train_images = os.listdir(train_image_dir)\n",
    "# val_images = os.listdir(val_image_dir)\n",
    "\n",
    "images = os.listdir(test_image_dir)\n",
    "image_dir = test_image_dir\n",
    "output_dir = resize_test_image_dir\n",
    "\n",
    "for i, image in enumerate(images):\n",
    "    # if (i + 1) <= num_train_images:\n",
    "    #     output_dir = resize_train_image_dir\n",
    "    # else:\n",
    "    #     output_dir = resize_val_image_dir\n",
    "\n",
    "    # if image in train_images:\n",
    "    #     image_dir = train_image_dir\n",
    "    # elif image in val_images:\n",
    "    #     image_dir = val_image_dir\n",
    "    print(image.split('.'))\n",
    "    if image.split('.')[1] == 'jpg':\n",
    "        with open(os.path.join(image_dir, image), 'rb+') as f:\n",
    "            with Image.open(f) as img:\n",
    "                img = resize_image(img, size)\n",
    "                img.save(os.path.join(output_dir, image), img.format)\n",
    "\n",
    "    # if (i + 1) % 10000 == 0:\n",
    "    #     print(f\"[{i + 1}/{num_images}] Resized the images and saved into '{output_dir}'\")"
   ]
  },
  {
   "cell_type": "code",
   "execution_count": null,
   "metadata": {},
   "outputs": [],
   "source": []
  }
 ],
 "metadata": {
  "interpreter": {
   "hash": "4c685287e67beedc9686e20e69d317f8ab63c1a79d4a9993437222c668c84b9b"
  },
  "kernelspec": {
   "display_name": "Python 3.7.0 64-bit ('torch': conda)",
   "language": "python",
   "name": "python3"
  },
  "language_info": {
   "codemirror_mode": {
    "name": "ipython",
    "version": 3
   },
   "file_extension": ".py",
   "mimetype": "text/x-python",
   "name": "python",
   "nbconvert_exporter": "python",
   "pygments_lexer": "ipython3",
   "version": "3.7.0"
  },
  "orig_nbformat": 4
 },
 "nbformat": 4,
 "nbformat_minor": 2
}
